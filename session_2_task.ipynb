{
  "nbformat": 4,
  "nbformat_minor": 0,
  "metadata": {
    "colab": {
      "provenance": [],
      "include_colab_link": true
    },
    "kernelspec": {
      "name": "python3",
      "display_name": "Python 3"
    },
    "language_info": {
      "name": "python"
    }
  },
  "cells": [
    {
      "cell_type": "markdown",
      "metadata": {
        "id": "view-in-github",
        "colab_type": "text"
      },
      "source": [
        "<a href=\"https://colab.research.google.com/github/rafayel404/Python/blob/main/session_2_task.ipynb\" target=\"_parent\"><img src=\"https://colab.research.google.com/assets/colab-badge.svg\" alt=\"Open In Colab\"/></a>"
      ]
    },
    {
      "cell_type": "markdown",
      "source": [
        "### `Problem 1`: Write a program that will give you in hand monthly salary after deduction on CTC - HRA(10%), DA(5%), PF(3%) and taxes deduction as below:\n",
        "\n",
        "> Salary(Lakhs) : Tax(%)\n",
        "\n",
        "*   Below 5 : 0%\n",
        "*   5-10 : 10%\n",
        "*   10-20 : 20%\n",
        "*   aboove 20 : 30%"
      ],
      "metadata": {
        "id": "w6RlOAXV2PWh"
      }
    },
    {
      "cell_type": "code",
      "source": [
        "# Write code here\n",
        "# I actually don't know how tax system works. Whatever ctc is cut after tax deduction or on total, i assumed on total.\n",
        "\n",
        "salary= int(input('Enter salary in lakhs: '))\n",
        "ctc_da_pf=.18\n",
        "\n",
        "if salary <= 5:\n",
        "\n",
        "  salary=salary-salary*ctc_da_pf\n",
        "\n",
        "elif salary <= 10:\n",
        "\n",
        "  tax = 0.1\n",
        "  ctc_da_pf_with_tax=.18 +tax\n",
        "  salary=salary-salary* ctc_da_pf_with_tax\n",
        "\n",
        "elif salary <= 20:\n",
        "  tax = 0.2\n",
        "  ctc_da_pf_with_tax=.18+tax\n",
        "  salary=salary-salary* ctc_da_pf_with_tax\n",
        "else:\n",
        "  tax = 0.3\n",
        "  ctc_da_pf_with_tax=.18+tax\n",
        "  salary=salary-salary* ctc_da_pf_with_tax\n",
        "\n",
        "\n",
        "print('In hand salary is : ',salary)"
      ],
      "metadata": {
        "id": "7tMHvKYO2etI",
        "outputId": "7e54f6aa-1ab1-4c86-f8bb-165da3a68743",
        "colab": {
          "base_uri": "https://localhost:8080/"
        }
      },
      "execution_count": null,
      "outputs": [
        {
          "output_type": "stream",
          "name": "stdout",
          "text": [
            "Enter salary in lakhs: 20\n",
            "In hand salary is :  12.4\n"
          ]
        }
      ]
    },
    {
      "cell_type": "markdown",
      "source": [
        "### `Problem 2`: Write a program that take a user input of three angles and will find out whether it can form a triangle or not."
      ],
      "metadata": {
        "id": "tYzCGqwl2hfN"
      }
    },
    {
      "cell_type": "code",
      "source": [
        "# Write code here\n",
        "a=int(input('Enter first angle: '))\n",
        "b=int(input('Enter second angle: '))\n",
        "c=int(input('Enter third angle: '))\n",
        "\n",
        "if a+b+c == 180:\n",
        "  print('It can form a triangle')\n",
        "else:\n",
        "  print('Can not form triangle')"
      ],
      "metadata": {
        "id": "FYEqln-I2kxV",
        "outputId": "57f53dfc-88ef-484a-b01c-abc4eca1afa5",
        "colab": {
          "base_uri": "https://localhost:8080/"
        }
      },
      "execution_count": null,
      "outputs": [
        {
          "output_type": "stream",
          "name": "stdout",
          "text": [
            "Enter first angle: 90\n",
            "Enter second angle: 45\n",
            "Enter third angle: 45\n",
            "It can form a triangle\n"
          ]
        }
      ]
    },
    {
      "cell_type": "markdown",
      "source": [
        "### `Problem 3`: Write a program that will take user input of cost price and selling price and determines whether its a loss or a profit."
      ],
      "metadata": {
        "id": "5vEpPh8C2pE4"
      }
    },
    {
      "cell_type": "code",
      "source": [
        "c=int(input(\"Enter cost: \"))\n",
        "s=int(input(\"Enter sell: \"))\n",
        "\n",
        "if c>s:\n",
        "  print('Loss')\n",
        "else:\n",
        "  print('Profit')"
      ],
      "metadata": {
        "id": "mIQMa1-42d8n",
        "outputId": "114b7928-6780-4ee5-dfa4-827354629cfa",
        "colab": {
          "base_uri": "https://localhost:8080/"
        }
      },
      "execution_count": null,
      "outputs": [
        {
          "output_type": "stream",
          "name": "stdout",
          "text": [
            "Enter cost: 10\n",
            "Enter sell: 9\n",
            "Loss\n"
          ]
        }
      ]
    },
    {
      "cell_type": "markdown",
      "source": [
        "### `Problem 4`: Write a menu-driven program -\n",
        "1. cm to ft\n",
        "2. km to miles\n",
        "3. USD to INR\n",
        "4. exit"
      ],
      "metadata": {
        "id": "J_FG_cJW2ugT"
      }
    },
    {
      "cell_type": "code",
      "source": [
        "while True:\n",
        "  print(\"\\n\")\n",
        "  print(\"1. cm to ft\")\n",
        "  print(\"2. km to miles\")\n",
        "  print(\"3. USD to INR\")\n",
        "  print(\"4. exit\")\n",
        "\n",
        "  a=int(input(\"Select Option: \"))\n",
        "  if a==1:\n",
        "    cm=int(input(\"Enter cm: \"))\n",
        "    ft=cm/30.48\n",
        "    print(ft)\n",
        "  elif a==2:\n",
        "    km=int(input(\"Enter km: \"))\n",
        "    miles=km/1.609\n",
        "    print(miles)\n",
        "  elif a==3:\n",
        "    usd=int(input(\"Enter usd: \"))\n",
        "    inr=usd*83.88\n",
        "    print(inr)\n",
        "\n",
        "  elif a==4:\n",
        "    break\n",
        "  else:\n",
        "    print(\"Invalid Option\")"
      ],
      "metadata": {
        "id": "hYC1x8MN4wrn",
        "outputId": "5a912b92-a584-4560-99ab-ad213dd810c9",
        "colab": {
          "base_uri": "https://localhost:8080/"
        }
      },
      "execution_count": null,
      "outputs": [
        {
          "name": "stdout",
          "output_type": "stream",
          "text": [
            "\n",
            "\n",
            "1. cm to ft\n",
            "2. km to miles\n",
            "3. USD to INR\n",
            "4. exit\n",
            "Select Option: 3\n",
            "Enter usd: 10\n",
            "838.8\n",
            "\n",
            "\n",
            "1. cm to ft\n",
            "2. km to miles\n",
            "3. USD to INR\n",
            "4. exit\n",
            "Select Option: 4\n"
          ]
        }
      ]
    },
    {
      "cell_type": "markdown",
      "source": [
        "### `Problem 5` - Exercise 12: Display Fibonacci series up to 10 terms.\n",
        "\n",
        "*Note: The Fibonacci Sequence is a series of numbers. The next number is found by adding up the two numbers before it. The first two numbers are 0 and 1. For example, 0, 1, 1, 2, 3, 5, 8, 13, 21. The next number in this series above is 13+21 = 34*"
      ],
      "metadata": {
        "id": "LJJ30_Yw27ZU"
      }
    },
    {
      "cell_type": "code",
      "source": [
        "# Write code here\n",
        "n_terms = 10\n",
        "a, b = 0, 1\n",
        "\n",
        "for i in range(n_terms):\n",
        "    print(a, end=\" \")\n",
        "    a, b = b, a + b\n"
      ],
      "metadata": {
        "id": "ae_1rpe52-5R",
        "outputId": "c6d3790c-1c95-4f20-dc97-94873fd6de5a",
        "colab": {
          "base_uri": "https://localhost:8080/"
        }
      },
      "execution_count": null,
      "outputs": [
        {
          "output_type": "stream",
          "name": "stdout",
          "text": [
            "0 1 1 2 3 5 8 13 21 34 "
          ]
        }
      ]
    },
    {
      "cell_type": "markdown",
      "source": [
        "### `Problem 6` - Find the factorial of a given number.\n",
        "\n",
        "Write a program to use the loop to find the factorial of a given number.\n",
        "\n",
        "The factorial (symbol: `!`) means to multiply all whole numbers from the chosen number down to 1.\n",
        "\n",
        "For example: calculate the factorial of 5\n",
        "\n",
        "```bash\n",
        "5! = 5 × 4 × 3 × 2 × 1 = 120\n",
        "```\n",
        "\n",
        "Output:\n",
        "\n",
        "```bash\n",
        "120\n",
        "```"
      ],
      "metadata": {
        "id": "pk_I_S4m3PT5"
      }
    },
    {
      "cell_type": "code",
      "source": [
        "# Write code here\n",
        "\n",
        "number =int(input(\"Enter number: \"))\n",
        "factorial = 1\n",
        "for i in range(1, number + 1):\n",
        "    factorial *= i\n",
        "\n",
        "print(f\"The factorial of {number} is {factorial}\")\n"
      ],
      "metadata": {
        "id": "lzXxHegx3Rkc",
        "outputId": "5f8fde85-5b6d-4e10-93fc-669311ea6633",
        "colab": {
          "base_uri": "https://localhost:8080/"
        }
      },
      "execution_count": null,
      "outputs": [
        {
          "output_type": "stream",
          "name": "stdout",
          "text": [
            "Enter number: 5\n",
            "The factorial of 5 is 120\n"
          ]
        }
      ]
    },
    {
      "cell_type": "markdown",
      "source": [
        "### `Problem 7` - Reverse a given integer number.\n",
        "\n",
        "Example:\n",
        "\n",
        "`Input:`\n",
        "\n",
        "```bash\n",
        "76542\n",
        "```\n",
        "\n",
        "`Output:`\n",
        "\n",
        "```bash\n",
        "24567\n",
        "```"
      ],
      "metadata": {
        "id": "-17IOi-g3UpU"
      }
    },
    {
      "cell_type": "code",
      "source": [
        "# Write code here\n",
        "\n",
        "num=int(input('Enter number: '))\n",
        "reverse = 0\n",
        "while num > 0:\n",
        "    remainder = num % 10\n",
        "    reverse = (reverse * 10) + remainder\n",
        "    num = num // 10\n",
        "\n",
        "print(f\"The reversed number is {reverse}\")"
      ],
      "metadata": {
        "id": "wJwLpKCr3aVA",
        "outputId": "ddac27e2-9108-4e10-a0bd-b16f59c14a1c",
        "colab": {
          "base_uri": "https://localhost:8080/"
        }
      },
      "execution_count": null,
      "outputs": [
        {
          "output_type": "stream",
          "name": "stdout",
          "text": [
            "Enter number: 1234\n",
            "The reversed number is 4321\n"
          ]
        }
      ]
    },
    {
      "cell_type": "markdown",
      "source": [
        "### `Problem 8`: Take a user input as integer N. Find out the sum from 1 to N. If any number if divisible by 5, then skip that number. And if the sum is greater than 300, don't need to calculate the sum further more. Print the final result. And don't use for loop to solve this problem.\n",
        "\n",
        "**Example 1:**\n",
        "\n",
        "`Input:`\n",
        "\n",
        "```bash\n",
        "30\n",
        "```\n",
        "\n",
        "`Output:`\n",
        "\n",
        "```bash\n",
        "276\n",
        "```"
      ],
      "metadata": {
        "id": "-t8PJQaY3sHf"
      }
    },
    {
      "cell_type": "code",
      "source": [
        "# Write code here\n",
        "\n",
        "N = int(input(\"Enter an integer N: \"))\n",
        "total_sum = 0\n",
        "i = 1\n",
        "while i <= N:\n",
        "  if i % 5 == 0:\n",
        "    i += 1\n",
        "    continue\n",
        "  if total_sum + i > 300:\n",
        "    break\n",
        "  total_sum += i\n",
        "  i += 1\n",
        "\n",
        "print(f\"The final sum is {total_sum}\")\n"
      ],
      "metadata": {
        "id": "GZB6mGMP3ujT",
        "outputId": "717199ec-18d0-4acd-8744-dd73f695f4a5",
        "colab": {
          "base_uri": "https://localhost:8080/"
        }
      },
      "execution_count": null,
      "outputs": [
        {
          "output_type": "stream",
          "name": "stdout",
          "text": [
            "Enter an integer N: 30\n",
            "The final sum is 276\n"
          ]
        }
      ]
    },
    {
      "cell_type": "markdown",
      "source": [
        "### `Problem 9`: Write a program that keeps on accepting a number from the user until the user enters Zero. Display the sum and average of all the numbers."
      ],
      "metadata": {
        "id": "Q7ggImeA3xm4"
      }
    },
    {
      "cell_type": "code",
      "source": [
        "# Write code here\n",
        "total_sum = 0\n",
        "count = 0\n",
        "while True:\n",
        "  print('\\nTo stop enter 0. To continue Enter numbers\\n')\n",
        "  number = int(input(\"Enter a number: \"))\n",
        "  if number == 0:\n",
        "    break\n",
        "  total_sum += number\n",
        "  count += 1\n",
        "\n",
        "if count == 0:\n",
        "  print(\"No numbers were entered.\")\n",
        "else:\n",
        "  average = total_sum / count\n",
        "  print(f\"Sum of numbers: {total_sum}\")\n",
        "  print(f\"Average of numbers: {average}\")\n",
        "\n",
        "\n"
      ],
      "metadata": {
        "id": "t_YDSZDe4Kdo",
        "outputId": "7a2372e5-623d-4c52-abc2-7af75f9274dc",
        "colab": {
          "base_uri": "https://localhost:8080/"
        }
      },
      "execution_count": null,
      "outputs": [
        {
          "output_type": "stream",
          "name": "stdout",
          "text": [
            "\n",
            "To stop enter 0. To continue Enter numbers\n",
            "\n",
            "Enter a number: 5\n",
            "\n",
            "To stop enter 0. To continue Enter numbers\n",
            "\n",
            "Enter a number: 5\n",
            "\n",
            "To stop enter 0. To continue Enter numbers\n",
            "\n",
            "Enter a number: 5\n",
            "\n",
            "To stop enter 0. To continue Enter numbers\n",
            "\n",
            "Enter a number: 0\n",
            "Sum of numbers: 15\n",
            "Average of numbers: 5.0\n"
          ]
        }
      ]
    },
    {
      "cell_type": "markdown",
      "source": [
        "###`Problem 9`: Write a program which will find all such numbers which are divisible by 7 but are not a multiple of 5, between 2000 and 3200 (both included). The numbers obtained should be printed in a comma-separated sequence on a single line."
      ],
      "metadata": {
        "id": "6EhvEMvm4R7s"
      }
    },
    {
      "cell_type": "code",
      "source": [
        "# Write code here"
      ],
      "metadata": {
        "id": "d6RgP1B34T6c"
      },
      "execution_count": null,
      "outputs": []
    },
    {
      "cell_type": "markdown",
      "source": [
        "###`Problem 10`: Write a program, which will find all such numbers between 1000 and 3000 (both included) such that each digit of the number is an even number. The numbers obtained should be printed in a space-separated sequence on a single line.\n",
        "\n"
      ],
      "metadata": {
        "id": "tYvmRR-G4Vp4"
      }
    },
    {
      "cell_type": "code",
      "source": [
        "# Write code here"
      ],
      "metadata": {
        "id": "k6Gs1kIf4k19"
      },
      "execution_count": null,
      "outputs": []
    },
    {
      "cell_type": "markdown",
      "source": [
        "###`Problem 11`: A robot moves in a plane starting from the original point (0,0). The robot can move toward UP, DOWN, LEFT and RIGHT with a given steps.\n",
        "The trace of robot movement is shown as the following:\n",
        "```\n",
        "UP 5\n",
        "DOWN 3\n",
        "LEFT 3\n",
        "RIGHT 2\n",
        "!\n",
        "```\n",
        "> The numbers after the direction are steps.\n",
        "\n",
        "> `!` means robot stop there.\n",
        "\n",
        "**Please write a program to compute the distance from current position after a sequence of movement and original point.**\n",
        "\n",
        "*If the distance is a float, then just print the nearest integer.*\n",
        "\n",
        "Example:\n",
        "\n",
        "`Input`:\n",
        "```\n",
        "UP 5\n",
        "DOWN 3\n",
        "LEFT 3\n",
        "RIGHT 2\n",
        "!\n",
        "```\n",
        "`Output`:\n",
        "```\n",
        "2\n",
        "```"
      ],
      "metadata": {
        "id": "GV18IINT4mf5"
      }
    },
    {
      "cell_type": "code",
      "source": [
        "# Write code here"
      ],
      "metadata": {
        "id": "6UNMC2aR4w5x"
      },
      "execution_count": null,
      "outputs": []
    },
    {
      "cell_type": "markdown",
      "source": [
        "###`Problem 12`:Write a program to print whether a given number is a prime number or not"
      ],
      "metadata": {
        "id": "3fsAIAhK5GYY"
      }
    },
    {
      "cell_type": "code",
      "source": [
        "# Write code\n",
        "# Write code here\n",
        "num = int(input('enter the num'))\n",
        "\n",
        "flag = True\n",
        "for i in range(2,num):\n",
        "  if num%i == 0:\n",
        "    flag = False\n",
        "    break\n",
        "\n",
        "if flag == True:\n",
        "  print('Prime')\n",
        "else:\n",
        "  print('Not Prime')\n"
      ],
      "metadata": {
        "id": "j6y91lxy5LZs"
      },
      "execution_count": null,
      "outputs": []
    },
    {
      "cell_type": "markdown",
      "source": [
        "###`Problem 13`:Print all the Armstrong numbers in a given range.\n",
        "Range will be provided by the user<br>\n",
        "Armstrong number is a number that is equal to the sum of cubes of its digits. For example 0, 1, 153, 370, 371 and 407 are the Armstrong numbers."
      ],
      "metadata": {
        "id": "asAbmbK-5NHv"
      }
    },
    {
      "cell_type": "code",
      "source": [
        "# Write code here\n",
        "# Write code here\n",
        "start = int(input(\"Enter the start of the range: \"))\n",
        "end = int(input(\"Enter the end of the range: \"))\n",
        "\n",
        "for num in range(start, end+1):\n",
        "    temp = num\n",
        "    sum = 0\n",
        "    order = len(str(num))\n",
        "    while temp > 0:\n",
        "        digit = temp % 10\n",
        "        sum += digit ** order\n",
        "        temp //= 10\n",
        "    if num == sum:\n",
        "        print(num)"
      ],
      "metadata": {
        "id": "PZuI67pm5jCT",
        "colab": {
          "base_uri": "https://localhost:8080/"
        },
        "outputId": "5dab7d9f-12e2-4496-85f8-7c58b7509dfc"
      },
      "execution_count": 1,
      "outputs": [
        {
          "name": "stdout",
          "output_type": "stream",
          "text": [
            "Enter the start of the range: 500\n",
            "Enter the end of the range: 1000\n"
          ]
        }
      ]
    },
    {
      "cell_type": "markdown",
      "source": [
        "###`Problem 14`:Calculate the angle between the hour hand and minute hand.\n",
        "\n",
        "Note: There can be two angles between hands; we need to print a minimum of two. Also, we need to print the floor of the final result angle. For example, if the final angle is 10.61, we need to print 10.\n",
        "\n",
        "Input:<br>\n",
        "H = 9 , M = 0<br>\n",
        "Output:<br>\n",
        "90<br>\n",
        "Explanation:<br>\n",
        "The minimum angle between hour and minute\n",
        "hand when the time is 9 is 90 degress."
      ],
      "metadata": {
        "id": "ClCQZMqT7gK0"
      }
    },
    {
      "cell_type": "code",
      "source": [
        "# Write code here\n",
        "H=int(input(\"Enter hour: \"))\n",
        "M=int(input(\"Enter Minute: \"))\n",
        "\n",
        "angle=abs(30*(H+(M/60))-(M*6))\n",
        "if angle >180:\n",
        "  print(360-angle)\n",
        "else:\n",
        "   print(angle)"
      ],
      "metadata": {
        "id": "tNBTCZML7jy_",
        "colab": {
          "base_uri": "https://localhost:8080/"
        },
        "outputId": "8c2dc1d8-b6ed-49b6-a1b0-68f516dce56a"
      },
      "execution_count": null,
      "outputs": [
        {
          "output_type": "stream",
          "name": "stdout",
          "text": [
            "Enter hour: 9\n",
            "Enter Minute: 0\n",
            "90.0\n"
          ]
        }
      ]
    },
    {
      "cell_type": "markdown",
      "source": [
        "###`Problem 15`:Given two rectangles, find if the given two rectangles overlap or not. A rectangle is denoted by providing the x and y coordinates of two points: the left top corner and the right bottom corner of the rectangle. Two rectangles sharing a side are considered overlapping. (L1 and R1 are the extreme points of the first rectangle and L2 and R2 are the extreme points of the second rectangle).\n",
        "\n",
        "Note: It may be assumed that the rectangles are parallel to the coordinate axis.\n",
        "\n",
        "<img src='https://www.geeksforgeeks.org/wp-content/uploads/rectanglesOverlap.png' width='300' height='200'>"
      ],
      "metadata": {
        "id": "GwacF9Co72Qc"
      }
    },
    {
      "cell_type": "code",
      "source": [
        "# Write code here\n",
        "r1=int(input('Enter First rectangle r1: '))\n",
        "l1=int(input('Enter First rectangle l1: '))\n",
        "r2=int(input('Enter Second rectangle  r2: '))\n",
        "l2=int(input('Enter Second rectangle l2: '))\n",
        "\n",
        "if r2>2*r1 or l2>2* l1:\n",
        "  print(\"Rectangles will not overlap.\")\n",
        "\n",
        "else:\n",
        "  print(\"Overlaped\")"
      ],
      "metadata": {
        "id": "6rrw_lpH78Rs",
        "colab": {
          "base_uri": "https://localhost:8080/"
        },
        "outputId": "46766b1d-bc21-4198-e344-8f309574dd85"
      },
      "execution_count": null,
      "outputs": [
        {
          "output_type": "stream",
          "name": "stdout",
          "text": [
            "Enter First rectangle r1: 5\n",
            "Enter First rectangle l1: 3\n",
            "Enter Second rectangle  r2: 11\n",
            "Enter Second rectangle l2: 5\n",
            "Rectangles will not overlap.\n"
          ]
        }
      ]
    }
  ]
}