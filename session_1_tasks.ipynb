{
  "nbformat": 4,
  "nbformat_minor": 0,
  "metadata": {
    "colab": {
      "provenance": []
    },
    "kernelspec": {
      "name": "python3",
      "display_name": "Python 3"
    },
    "language_info": {
      "name": "python"
    }
  },
  "cells": [
    {
      "cell_type": "markdown",
      "source": [
        "# Task : Session 1\n",
        "Solve these questions own your own and try to test yourself what you have learned in the session.\n",
        "\n",
        "Happy Learning!"
      ],
      "metadata": {
        "id": "A05OG15VqOPF"
      }
    },
    {
      "cell_type": "markdown",
      "source": [
        "### Q1 :- Print the given strings as per stated format.\n",
        "\n",
        "**Given strings**:\n",
        "```\n",
        "\"Data\" \"Science\" \"Mentorship\" \"Program\"\n",
        "\"By\" \"CampusX\"\n",
        "```\n",
        "**Output**:\n",
        "```\n",
        "Data-Science-Mentorship-Program-started-By-CampusX\n",
        "```\n",
        "\n",
        "Concept- [Seperator and End]"
      ],
      "metadata": {
        "id": "2doIXf8bqe9_"
      }
    },
    {
      "cell_type": "code",
      "source": [
        "# Write your code here\n",
        "print(\"Data\",\"Science\", \"Mentorship\" ,\"Program\" ,\n",
        "\"By\", \"CampusX\",sep='-')"
      ],
      "metadata": {
        "id": "-em6d3KErDtp",
        "outputId": "e3a2add3-04ec-4588-9b2c-f86a530e5ecd",
        "colab": {
          "base_uri": "https://localhost:8080/"
        }
      },
      "execution_count": 3,
      "outputs": [
        {
          "output_type": "stream",
          "name": "stdout",
          "text": [
            "Data-Science-Mentorship-Program-By-CampusX\n"
          ]
        }
      ]
    },
    {
      "cell_type": "markdown",
      "source": [
        "### Q2:- Write a program that will convert celsius value to fahrenheit."
      ],
      "metadata": {
        "id": "1KUpN7ZTrC3_"
      }
    },
    {
      "cell_type": "code",
      "source": [
        "# Write your code here\n",
        "x=float(input('Give Censius :'))\n",
        "y=(x*9/5)+32\n",
        "print('Fahrenheit : ',y)"
      ],
      "metadata": {
        "id": "yxKYhYQiqWfj",
        "outputId": "ee798956-4f57-4c64-8ceb-1cefa8601be7",
        "colab": {
          "base_uri": "https://localhost:8080/"
        }
      },
      "execution_count": 5,
      "outputs": [
        {
          "output_type": "stream",
          "name": "stdout",
          "text": [
            "Give Censius :10\n",
            "Fahrenheit :  50.0\n"
          ]
        }
      ]
    },
    {
      "cell_type": "markdown",
      "source": [
        "### Q3:- Take 2 numbers as input from the user.Write a program to swap the numbers without using any special python syntax."
      ],
      "metadata": {
        "id": "RLrOBBJurLB2"
      }
    },
    {
      "cell_type": "code",
      "source": [
        "# Write your code here\n",
        "x=int(input('Give First number :'))\n",
        "y=int(input('Give Second number :'))\n",
        "temp=x\n",
        "x=y\n",
        "y=temp\n",
        "print('After swap:\\n',x,y)"
      ],
      "metadata": {
        "id": "yPn7if0TrJ4F",
        "outputId": "e2fd53cf-a9e0-42f3-c184-2c301698a5bb",
        "colab": {
          "base_uri": "https://localhost:8080/"
        }
      },
      "execution_count": 6,
      "outputs": [
        {
          "output_type": "stream",
          "name": "stdout",
          "text": [
            "Give First number :10\n",
            "Give Second number :20\n",
            "After swap:\n",
            " 20 10\n"
          ]
        }
      ]
    },
    {
      "cell_type": "markdown",
      "source": [
        "### Q4:- Write a program to find the euclidean distance between two coordinates.Take both the coordinates from the user as input."
      ],
      "metadata": {
        "id": "waLCP1bjr7ML"
      }
    },
    {
      "cell_type": "code",
      "source": [
        "# Write your code\n",
        "import math\n",
        "x1=int(input('Give x1 :'))\n",
        "y1=int(input('Give y1 :'))\n",
        "x2=int(input('Give x2 :'))\n",
        "y2=int(input('Give y2 :'))\n",
        "distance=math.sqrt((x2-x1)**2+(y2-y1)**2)\n",
        "\n",
        "print(distance)"
      ],
      "metadata": {
        "id": "Pl1Sv-xnrxnH",
        "outputId": "9a049adf-ac73-49b6-b787-40ea1b4a5085",
        "colab": {
          "base_uri": "https://localhost:8080/"
        }
      },
      "execution_count": 8,
      "outputs": [
        {
          "output_type": "stream",
          "name": "stdout",
          "text": [
            "Give x1 :0\n",
            "Give y1 :0\n",
            "Give x2 :2\n",
            "Give y2 :2\n",
            "2.8284271247461903\n"
          ]
        }
      ]
    },
    {
      "cell_type": "markdown",
      "source": [
        "0### Q5:- Write a program to find the simple interest when the value of principle,rate of interest and time period is provided by the user.\n"
      ],
      "metadata": {
        "id": "VLrhg-FRsHjR"
      }
    },
    {
      "cell_type": "code",
      "source": [
        "# Write your code here\n",
        "p=int(input('Principle :'))\n",
        "r=int(input('Rate of interest :'))\n",
        "n=int(input('Time:'))\n",
        "r=float(r/100)\n",
        "I=p*n*r\n",
        "print(\"Interest is\",I)"
      ],
      "metadata": {
        "id": "s40DlReZsTmY",
        "outputId": "c5a8ccb3-49fb-46a3-bf12-4e13e8e176fd",
        "colab": {
          "base_uri": "https://localhost:8080/"
        }
      },
      "execution_count": 9,
      "outputs": [
        {
          "output_type": "stream",
          "name": "stdout",
          "text": [
            "Principle :100\n",
            "Rate of interest :10\n",
            "Time:1\n",
            "Interest is 10.0\n"
          ]
        }
      ]
    },
    {
      "cell_type": "markdown",
      "source": [
        "### Q6:- Write a program that will tell the number of dogs and chicken are there when the user will provide the value of total heads and legs.\n",
        "\n",
        "For example:\n",
        "Input:\n",
        "heads -> 4\n",
        "legs -> 12\n",
        "<br>\n",
        "Output:\n",
        "dogs -> 2\n",
        "chicken -> 2\n",
        "\n",
        "\n",
        "\n"
      ],
      "metadata": {
        "id": "LMy0BTUktYKa"
      }
    },
    {
      "cell_type": "code",
      "source": [
        "# Write your code here\n",
        "h=int(input('Number of Heads :'))\n",
        "l=int(input('Number of Legs :'))\n",
        "dog=(l-2*h)/2\n",
        "chicken=h-dog\n",
        "print('Dog & chickens are: ',int(dog),int(chicken))\n"
      ],
      "metadata": {
        "id": "XSBvJoA4tXaG",
        "outputId": "9b7ab8d5-a343-4697-f7f4-f169da6e1462",
        "colab": {
          "base_uri": "https://localhost:8080/"
        }
      },
      "execution_count": 17,
      "outputs": [
        {
          "output_type": "stream",
          "name": "stdout",
          "text": [
            "Number of Heads :4\n",
            "Number of Legs :12\n",
            "Dog & chickens are:  2 2\n"
          ]
        }
      ]
    },
    {
      "cell_type": "markdown",
      "source": [
        "12### Q7:- Write a program to find the sum of squares of first n natural numbers where n will be provided by the user."
      ],
      "metadata": {
        "id": "gJ7C5kZYt4BP"
      }
    },
    {
      "cell_type": "code",
      "source": [
        "# Write your code here\n",
        "n=int(input('Give number :'))\n",
        "sum=n*(n+1)/2\n",
        "print(sum)"
      ],
      "metadata": {
        "id": "_tHsmEHzt2nX",
        "outputId": "24e72558-68be-4bcd-d945-4e89e9cb3ec7",
        "colab": {
          "base_uri": "https://localhost:8080/"
        }
      },
      "execution_count": 15,
      "outputs": [
        {
          "output_type": "stream",
          "name": "stdout",
          "text": [
            "Give number :5\n",
            "15.0\n"
          ]
        }
      ]
    },
    {
      "cell_type": "markdown",
      "source": [
        "### Q8:- Given the first 2 terms of an Arithmetic Series.Find the Nth term of the series. Assume all inputs are provided by the user."
      ],
      "metadata": {
        "id": "FHrMM7g-yG1h"
      }
    },
    {
      "cell_type": "code",
      "source": [
        "# Write your code here\n",
        "a1=int(input('First term : '))\n",
        "a2=int(input('Second term : '))\n",
        "n=int(input('Which term? :'))\n",
        "d=a2-a1\n",
        "an=a1+(n-1)*d\n",
        "print(f'{n}th term is ',an)"
      ],
      "metadata": {
        "id": "go4_kmZmyVSx",
        "outputId": "3f23aaa2-6f6d-44d6-80ec-dd3d02b9efac",
        "colab": {
          "base_uri": "https://localhost:8080/"
        }
      },
      "execution_count": 14,
      "outputs": [
        {
          "output_type": "stream",
          "name": "stdout",
          "text": [
            "First term : 3\n",
            "Second term : 6\n",
            "Which term? :5\n",
            "5th term is  15\n"
          ]
        }
      ]
    },
    {
      "cell_type": "markdown",
      "source": [
        "### Q9:- Given 2 fractions, find the sum of those 2 fractions.Take the numerator and denominator values of the fractions from the user."
      ],
      "metadata": {
        "id": "QgyRX_es1oum"
      }
    },
    {
      "cell_type": "code",
      "source": [
        "# Write your code here\n",
        "n1=int(input('Numerator1: '))\n",
        "d1=int(input('Denominator1: '))\n",
        "n2=int(input('Numerator2: ' ))\n",
        "d2=int(input('Denominator2: '))\n",
        "n=n1*d2+n2*d1\n",
        "d=d1*d2\n",
        "print(n/d)"
      ],
      "metadata": {
        "id": "X05xqFS1yW16",
        "outputId": "949c3acd-b97e-420b-8ff4-310bde80c344",
        "colab": {
          "base_uri": "https://localhost:8080/"
        }
      },
      "execution_count": 13,
      "outputs": [
        {
          "output_type": "stream",
          "name": "stdout",
          "text": [
            "Numerator1: 1\n",
            "Denominator1: 2\n",
            "Numerator2: 1\n",
            "Denominator2: 2\n",
            "1.0\n"
          ]
        }
      ]
    },
    {
      "cell_type": "markdown",
      "source": [
        "### Q10:- Given the height, width and breadth of a milk tank, you have to find out how many glasses of milk can be obtained? Assume all the inputs are provided by the user.\n",
        "\n",
        "\n",
        "\n",
        "Input:<br>\n",
        "Dimensions of the milk tank<br>\n",
        "H = 20cm, L = 20cm, B = 20cm\n",
        "<br><br>\n",
        "Dimensions of the glass<br>\n",
        "h = 3cm, r = 1cm"
      ],
      "metadata": {
        "id": "eaql38ln13u7"
      }
    },
    {
      "cell_type": "code",
      "source": [
        "Tank_H=int(input('Height of tank:'))\n",
        "Tank_L=int(input('Length of tank:'))\n",
        "Tank_B=int(input('Breadth of tank:'))\n",
        "Glass_H=int(input('Height of glass:'))\n",
        "Glass_R=int(input('Radius of glass:'))\n",
        "Volume_of_tank=Tank_H*Tank_L*Tank_B\n",
        "Volume_of_glass=3.14*Glass_R**2*Glass_H\n",
        "No_of_glass=Volume_of_tank/Volume_of_glass\n",
        "print(No_of_glass)"
      ],
      "metadata": {
        "id": "PM8zHUppfKYB",
        "outputId": "b45dec22-519f-47f6-fc04-122bfcf620bf",
        "colab": {
          "base_uri": "https://localhost:8080/"
        }
      },
      "execution_count": 11,
      "outputs": [
        {
          "output_type": "stream",
          "name": "stdout",
          "text": [
            "Height of tank:20\n",
            "Length of tank:20\n",
            "Breadth of tank:20\n",
            "Height of glass:3\n",
            "Radius of glass:2\n",
            "212.31422505307856\n"
          ]
        }
      ]
    },
    {
      "cell_type": "code",
      "source": [],
      "metadata": {
        "id": "M5WgFUa6fvzc"
      },
      "execution_count": null,
      "outputs": []
    }
  ]
}